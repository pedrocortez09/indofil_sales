{
 "cells": [
  {
   "cell_type": "markdown",
   "metadata": {},
   "source": [
    "# 0.0 Imports"
   ]
  },
  {
   "cell_type": "code",
   "execution_count": 19,
   "metadata": {},
   "outputs": [],
   "source": [
    "import pandas as pd\n",
    "import numpy as np\n",
    "import inflection\n",
    "from geopy.geocoders import Nominatim"
   ]
  },
  {
   "cell_type": "code",
   "execution_count": 27,
   "metadata": {},
   "outputs": [],
   "source": [
    "# Inicializa o geolocalizador\n",
    "geolocator = Nominatim(user_agent=\"myGeocoder\")\n",
    "\n",
    "# Função para pegar latitude e longitude de uma cidade\n",
    "def get_lat_lon(city_name):\n",
    "    location = geolocator.geocode(city_name)\n",
    "    if location:\n",
    "        return location.latitude, location.longitude\n",
    "    else:\n",
    "        return None, None"
   ]
  },
  {
   "cell_type": "code",
   "execution_count": 2,
   "metadata": {},
   "outputs": [],
   "source": [
    "data = pd.read_excel('../data/planilha_vendas.xlsx')"
   ]
  },
  {
   "cell_type": "markdown",
   "metadata": {},
   "source": [
    "# 1.0 Descrição dos Dados"
   ]
  },
  {
   "cell_type": "code",
   "execution_count": 3,
   "metadata": {},
   "outputs": [],
   "source": [
    "df1 = data.copy()"
   ]
  },
  {
   "cell_type": "markdown",
   "metadata": {},
   "source": [
    "## 1.1. Tamanho dos Dados"
   ]
  },
  {
   "cell_type": "code",
   "execution_count": 5,
   "metadata": {},
   "outputs": [
    {
     "name": "stdout",
     "output_type": "stream",
     "text": [
      "Numero de linhas é de: 191\n",
      "Numero de linhas é de: 16\n"
     ]
    }
   ],
   "source": [
    "print(f'Numero de linhas é de: {df1.shape[0]}')\n",
    "print(f'Numero de linhas é de: {df1.shape[1]}')"
   ]
  },
  {
   "cell_type": "markdown",
   "metadata": {},
   "source": [
    "## 1.2. Coluna dos Dados"
   ]
  },
  {
   "cell_type": "code",
   "execution_count": 9,
   "metadata": {},
   "outputs": [
    {
     "data": {
      "text/plain": [
       "Index(['emissor', 'no pedido', 'revenda', 'cidade', 'produto', 'quantidade',\n",
       "       'preço', 'total', 'data de emissão', 'data de faturamento',\n",
       "       'tipo de vencimento', 'data de vencimento', '% comissão',\n",
       "       'comissão total', 'comissão 1', 'comissão 2'],\n",
       "      dtype='object')"
      ]
     },
     "execution_count": 9,
     "metadata": {},
     "output_type": "execute_result"
    }
   ],
   "source": [
    "old_cols = ['Emissor', 'No Pedido', 'Revenda', 'Cidade', 'Produto', 'Quantidade',\n",
    "       'Preço', 'Total', 'Data de emissão', 'Data de Faturamento',\n",
    "       'Tipo de Vencimento', 'Data de Vencimento', '% Comissão',\n",
    "       'Comissão Total', 'Comissão 1', 'Comissão 2']\n",
    "\n",
    "snakecase = lambda x: inflection.underscore( x )\n",
    "\n",
    "new_cols = list( map( snakecase, old_cols ) )\n",
    "\n",
    "df1.columns = new_cols\n",
    "df1.columns"
   ]
  },
  {
   "cell_type": "markdown",
   "metadata": {},
   "source": [
    "## 1.3. Data Types"
   ]
  },
  {
   "cell_type": "code",
   "execution_count": 10,
   "metadata": {},
   "outputs": [
    {
     "data": {
      "text/plain": [
       "emissor                        object\n",
       "no pedido                      object\n",
       "revenda                        object\n",
       "cidade                         object\n",
       "produto                        object\n",
       "quantidade                      int64\n",
       "preço                         float64\n",
       "total                         float64\n",
       "data de emissão        datetime64[ns]\n",
       "data de faturamento    datetime64[ns]\n",
       "tipo de vencimento             object\n",
       "data de vencimento     datetime64[ns]\n",
       "% comissão                    float64\n",
       "comissão total                float64\n",
       "comissão 1                    float64\n",
       "comissão 2                    float64\n",
       "dtype: object"
      ]
     },
     "execution_count": 10,
     "metadata": {},
     "output_type": "execute_result"
    }
   ],
   "source": [
    "df1.dtypes"
   ]
  },
  {
   "cell_type": "markdown",
   "metadata": {},
   "source": [
    "## 1.4. Check NA"
   ]
  },
  {
   "cell_type": "code",
   "execution_count": 12,
   "metadata": {},
   "outputs": [
    {
     "data": {
      "text/plain": [
       "emissor                  0\n",
       "no pedido               19\n",
       "revenda                  0\n",
       "cidade                   0\n",
       "produto                  0\n",
       "quantidade               0\n",
       "preço                    0\n",
       "total                    0\n",
       "data de emissão          0\n",
       "data de faturamento    101\n",
       "tipo de vencimento      23\n",
       "data de vencimento       4\n",
       "% comissão               0\n",
       "comissão total           0\n",
       "comissão 1               0\n",
       "comissão 2               0\n",
       "dtype: int64"
      ]
     },
     "execution_count": 12,
     "metadata": {},
     "output_type": "execute_result"
    }
   ],
   "source": [
    "df1.isna().sum()"
   ]
  },
  {
   "cell_type": "markdown",
   "metadata": {},
   "source": [
    "# 2.0. Engenharia de Features"
   ]
  },
  {
   "cell_type": "code",
   "execution_count": 31,
   "metadata": {},
   "outputs": [],
   "source": [
    "df2 = df1.copy()"
   ]
  },
  {
   "cell_type": "markdown",
   "metadata": {},
   "source": [
    "## 2.1. Ano e Mes"
   ]
  },
  {
   "cell_type": "code",
   "execution_count": 32,
   "metadata": {},
   "outputs": [],
   "source": [
    "# year\n",
    "df2['ano'] = df2['data de emissão'].dt.year\n",
    "\n",
    "# month\n",
    "df2['mes'] = df2['data de emissão'].dt.month"
   ]
  },
  {
   "cell_type": "markdown",
   "metadata": {},
   "source": [
    "## 2.2. Produto Geral"
   ]
  },
  {
   "cell_type": "code",
   "execution_count": 33,
   "metadata": {},
   "outputs": [],
   "source": [
    "df2['produto_geral'] = df2['produto'].apply(lambda x: x.split()[0])"
   ]
  },
  {
   "cell_type": "markdown",
   "metadata": {},
   "source": [
    "## 2.3. Latitude e Longitude"
   ]
  },
  {
   "cell_type": "code",
   "execution_count": 35,
   "metadata": {},
   "outputs": [],
   "source": [
    "# Criação das colunas 'latitude' e 'longitude'\n",
    "df2[['latitude', 'longitude']] = df2['cidade'].apply(lambda city: pd.Series(get_lat_lon(city)))"
   ]
  },
  {
   "cell_type": "markdown",
   "metadata": {},
   "source": [
    "# 3.0 Selecionar Colunas"
   ]
  },
  {
   "cell_type": "code",
   "execution_count": 39,
   "metadata": {},
   "outputs": [],
   "source": [
    "feature_vendas = df2.loc[:, ['revenda', 'cidade', 'produto', 'quantidade', 'preço', 'total', 'ano', 'mes', 'produto_geral', 'latitude', 'longitude']]"
   ]
  },
  {
   "cell_type": "code",
   "execution_count": 40,
   "metadata": {},
   "outputs": [
    {
     "data": {
      "text/html": [
       "<div>\n",
       "<style scoped>\n",
       "    .dataframe tbody tr th:only-of-type {\n",
       "        vertical-align: middle;\n",
       "    }\n",
       "\n",
       "    .dataframe tbody tr th {\n",
       "        vertical-align: top;\n",
       "    }\n",
       "\n",
       "    .dataframe thead th {\n",
       "        text-align: right;\n",
       "    }\n",
       "</style>\n",
       "<table border=\"1\" class=\"dataframe\">\n",
       "  <thead>\n",
       "    <tr style=\"text-align: right;\">\n",
       "      <th></th>\n",
       "      <th>revenda</th>\n",
       "      <th>cidade</th>\n",
       "      <th>produto</th>\n",
       "      <th>quantidade</th>\n",
       "      <th>preço</th>\n",
       "      <th>total</th>\n",
       "      <th>ano</th>\n",
       "      <th>mes</th>\n",
       "      <th>produto_geral</th>\n",
       "      <th>latitude</th>\n",
       "      <th>longitude</th>\n",
       "    </tr>\n",
       "  </thead>\n",
       "  <tbody>\n",
       "    <tr>\n",
       "      <th>0</th>\n",
       "      <td>TDM Insumos</td>\n",
       "      <td>Ipuiúna</td>\n",
       "      <td>Moximate WP 1x20kg</td>\n",
       "      <td>2560</td>\n",
       "      <td>38.0</td>\n",
       "      <td>97280.0</td>\n",
       "      <td>2022</td>\n",
       "      <td>6</td>\n",
       "      <td>Moximate</td>\n",
       "      <td>-22.099320</td>\n",
       "      <td>-46.189656</td>\n",
       "    </tr>\n",
       "    <tr>\n",
       "      <th>1</th>\n",
       "      <td>TDM Insumos</td>\n",
       "      <td>Ipuiúna</td>\n",
       "      <td>Xopotó 800 WP 1x10kg</td>\n",
       "      <td>5120</td>\n",
       "      <td>19.2</td>\n",
       "      <td>98304.0</td>\n",
       "      <td>2022</td>\n",
       "      <td>6</td>\n",
       "      <td>Xopotó</td>\n",
       "      <td>-22.099320</td>\n",
       "      <td>-46.189656</td>\n",
       "    </tr>\n",
       "    <tr>\n",
       "      <th>2</th>\n",
       "      <td>Md Agro</td>\n",
       "      <td>Pouso Alegre</td>\n",
       "      <td>Moximate WP 1x20kg</td>\n",
       "      <td>8960</td>\n",
       "      <td>38.0</td>\n",
       "      <td>340480.0</td>\n",
       "      <td>2022</td>\n",
       "      <td>6</td>\n",
       "      <td>Moximate</td>\n",
       "      <td>-22.234386</td>\n",
       "      <td>-45.932724</td>\n",
       "    </tr>\n",
       "    <tr>\n",
       "      <th>3</th>\n",
       "      <td>Md Agro</td>\n",
       "      <td>Pouso Alegre</td>\n",
       "      <td>Moximate WP 1x10kg</td>\n",
       "      <td>5120</td>\n",
       "      <td>39.0</td>\n",
       "      <td>199680.0</td>\n",
       "      <td>2022</td>\n",
       "      <td>6</td>\n",
       "      <td>Moximate</td>\n",
       "      <td>-22.234386</td>\n",
       "      <td>-45.932724</td>\n",
       "    </tr>\n",
       "    <tr>\n",
       "      <th>4</th>\n",
       "      <td>Md Agro</td>\n",
       "      <td>Pouso Alegre</td>\n",
       "      <td>Moximate WP 10x1kg</td>\n",
       "      <td>3240</td>\n",
       "      <td>40.0</td>\n",
       "      <td>129600.0</td>\n",
       "      <td>2022</td>\n",
       "      <td>6</td>\n",
       "      <td>Moximate</td>\n",
       "      <td>-22.234386</td>\n",
       "      <td>-45.932724</td>\n",
       "    </tr>\n",
       "  </tbody>\n",
       "</table>\n",
       "</div>"
      ],
      "text/plain": [
       "       revenda        cidade               produto  quantidade  preço  \\\n",
       "0  TDM Insumos       Ipuiúna    Moximate WP 1x20kg        2560   38.0   \n",
       "1  TDM Insumos       Ipuiúna  Xopotó 800 WP 1x10kg        5120   19.2   \n",
       "2      Md Agro  Pouso Alegre    Moximate WP 1x20kg        8960   38.0   \n",
       "3      Md Agro  Pouso Alegre    Moximate WP 1x10kg        5120   39.0   \n",
       "4      Md Agro  Pouso Alegre    Moximate WP 10x1kg        3240   40.0   \n",
       "\n",
       "      total   ano  mes produto_geral   latitude  longitude  \n",
       "0   97280.0  2022    6      Moximate -22.099320 -46.189656  \n",
       "1   98304.0  2022    6        Xopotó -22.099320 -46.189656  \n",
       "2  340480.0  2022    6      Moximate -22.234386 -45.932724  \n",
       "3  199680.0  2022    6      Moximate -22.234386 -45.932724  \n",
       "4  129600.0  2022    6      Moximate -22.234386 -45.932724  "
      ]
     },
     "execution_count": 40,
     "metadata": {},
     "output_type": "execute_result"
    }
   ],
   "source": [
    "feature_vendas.head()"
   ]
  },
  {
   "cell_type": "code",
   "execution_count": null,
   "metadata": {},
   "outputs": [],
   "source": []
  }
 ],
 "metadata": {
  "kernelspec": {
   "display_name": "base",
   "language": "python",
   "name": "python3"
  },
  "language_info": {
   "codemirror_mode": {
    "name": "ipython",
    "version": 3
   },
   "file_extension": ".py",
   "mimetype": "text/x-python",
   "name": "python",
   "nbconvert_exporter": "python",
   "pygments_lexer": "ipython3",
   "version": "3.9.13"
  }
 },
 "nbformat": 4,
 "nbformat_minor": 2
}
